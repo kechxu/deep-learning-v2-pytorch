{
 "cells": [
  {
   "cell_type": "markdown",
   "metadata": {},
   "source": [
    "# Classifying Fashion-MNIST\n",
    "\n",
    "Now it's your turn to build and train a neural network. You'll be using the [Fashion-MNIST dataset](https://github.com/zalandoresearch/fashion-mnist), a drop-in replacement for the MNIST dataset. MNIST is actually quite trivial with neural networks where you can easily achieve better than 97% accuracy. Fashion-MNIST is a set of 28x28 greyscale images of clothes. It's more complex than MNIST, so it's a better representation of the actual performance of your network, and a better representation of datasets you'll use in the real world.\n",
    "\n",
    "<img src='assets/fashion-mnist-sprite.png' width=500px>\n",
    "\n",
    "In this notebook, you'll build your own neural network. For the most part, you could just copy and paste the code from Part 3, but you wouldn't be learning. It's important for you to write the code yourself and get it to work. Feel free to consult the previous notebooks though as you work through this.\n",
    "\n",
    "First off, let's load the dataset through torchvision."
   ]
  },
  {
   "cell_type": "code",
   "execution_count": 1,
   "metadata": {},
   "outputs": [
    {
     "name": "stderr",
     "output_type": "stream",
     "text": [
      "\r",
      "0it [00:00, ?it/s]"
     ]
    },
    {
     "name": "stdout",
     "output_type": "stream",
     "text": [
      "Downloading http://fashion-mnist.s3-website.eu-central-1.amazonaws.com/train-images-idx3-ubyte.gz to /Users/kechengxu/.pytorch/F_MNIST_data/FashionMNIST/raw/train-images-idx3-ubyte.gz\n"
     ]
    },
    {
     "name": "stderr",
     "output_type": "stream",
     "text": [
      "100%|█████████▉| 26411008/26421880 [00:48<00:00, 409139.92it/s]"
     ]
    },
    {
     "name": "stdout",
     "output_type": "stream",
     "text": [
      "Extracting /Users/kechengxu/.pytorch/F_MNIST_data/FashionMNIST/raw/train-images-idx3-ubyte.gz\n"
     ]
    },
    {
     "name": "stderr",
     "output_type": "stream",
     "text": [
      "\n",
      "0it [00:00, ?it/s]\u001b[A"
     ]
    },
    {
     "name": "stdout",
     "output_type": "stream",
     "text": [
      "Downloading http://fashion-mnist.s3-website.eu-central-1.amazonaws.com/train-labels-idx1-ubyte.gz to /Users/kechengxu/.pytorch/F_MNIST_data/FashionMNIST/raw/train-labels-idx1-ubyte.gz\n"
     ]
    },
    {
     "name": "stderr",
     "output_type": "stream",
     "text": [
      "\n",
      "  0%|          | 0/29515 [00:00<?, ?it/s]\u001b[A\n",
      " 56%|█████▌    | 16384/29515 [00:00<00:00, 103483.99it/s]\u001b[A\n",
      "\n",
      "0it [00:00, ?it/s]\u001b[A\u001b[A"
     ]
    },
    {
     "name": "stdout",
     "output_type": "stream",
     "text": [
      "Extracting /Users/kechengxu/.pytorch/F_MNIST_data/FashionMNIST/raw/train-labels-idx1-ubyte.gz\n",
      "Downloading http://fashion-mnist.s3-website.eu-central-1.amazonaws.com/t10k-images-idx3-ubyte.gz to /Users/kechengxu/.pytorch/F_MNIST_data/FashionMNIST/raw/t10k-images-idx3-ubyte.gz\n"
     ]
    },
    {
     "name": "stderr",
     "output_type": "stream",
     "text": [
      "\n",
      "\n",
      "  0%|          | 0/4422102 [00:00<?, ?it/s]\u001b[A\u001b[A\n",
      "\n",
      "  0%|          | 16384/4422102 [00:00<00:41, 106586.61it/s]\u001b[A\u001b[A\n",
      "\n",
      "  1%|          | 49152/4422102 [00:00<00:35, 124671.82it/s]\u001b[A\u001b[A\n",
      "\n",
      "  2%|▏         | 106496/4422102 [00:00<00:27, 156341.09it/s]\u001b[A\u001b[A\n",
      "\n",
      "  4%|▍         | 172032/4422102 [00:00<00:21, 200997.93it/s]\u001b[A\u001b[A\n",
      "\n",
      "  5%|▌         | 237568/4422102 [00:01<00:16, 251590.10it/s]\u001b[A\u001b[A\n",
      "\n",
      "  7%|▋         | 303104/4422102 [00:01<00:13, 304580.63it/s]\u001b[A\u001b[A\n",
      "\n",
      "  8%|▊         | 352256/4422102 [00:01<00:17, 235856.09it/s]\u001b[A\u001b[A\n",
      "\n",
      " 11%|█         | 475136/4422102 [00:01<00:12, 310753.75it/s]\u001b[A\u001b[A\n",
      "\n",
      " 13%|█▎        | 581632/4422102 [00:01<00:12, 320022.71it/s]\u001b[A\u001b[A\n",
      "\n",
      " 16%|█▌        | 712704/4422102 [00:02<00:09, 402462.13it/s]\u001b[A\u001b[A\n",
      "\n",
      " 20%|██        | 884736/4422102 [00:02<00:06, 520295.18it/s]\u001b[A\u001b[A\n",
      "\n",
      " 22%|██▏       | 983040/4422102 [00:02<00:06, 541590.13it/s]\u001b[A\u001b[A\n",
      "\n",
      " 24%|██▍       | 1073152/4422102 [00:02<00:05, 558285.91it/s]\u001b[A\u001b[A\n",
      "\n",
      " 26%|██▌       | 1155072/4422102 [00:02<00:05, 571132.72it/s]\u001b[A\u001b[A\n",
      "\n",
      " 28%|██▊       | 1228800/4422102 [00:02<00:05, 578130.95it/s]\u001b[A\u001b[A\n",
      "\n",
      " 29%|██▉       | 1302528/4422102 [00:02<00:05, 587335.77it/s]\u001b[A\u001b[A\n",
      "\n",
      " 31%|███       | 1376256/4422102 [00:02<00:05, 590606.81it/s]\u001b[A\u001b[A\n",
      "\n",
      " 33%|███▎      | 1441792/4422102 [00:03<00:07, 374477.27it/s]\u001b[A\u001b[A\n",
      "\n",
      " 37%|███▋      | 1638400/4422102 [00:03<00:05, 490612.24it/s]\u001b[A\u001b[A\n",
      "\n",
      " 39%|███▉      | 1728512/4422102 [00:03<00:05, 519117.93it/s]\u001b[A\u001b[A\n",
      "\n",
      " 41%|████      | 1810432/4422102 [00:03<00:04, 542541.26it/s]\u001b[A\u001b[A\n",
      "\n",
      " 43%|████▎     | 1892352/4422102 [00:03<00:04, 558659.28it/s]\u001b[A\u001b[A\n",
      "\n",
      " 44%|████▍     | 1966080/4422102 [00:03<00:04, 573030.82it/s]\u001b[A\u001b[A\n",
      "\n",
      " 46%|████▌     | 2039808/4422102 [00:04<00:04, 580821.00it/s]\u001b[A\u001b[A\n",
      "\n",
      " 48%|████▊     | 2105344/4422102 [00:04<00:03, 585358.53it/s]\u001b[A\u001b[A\n",
      "\n",
      " 49%|████▉     | 2170880/4422102 [00:04<00:03, 593526.01it/s]\u001b[A\u001b[A\n",
      "\n",
      " 51%|█████     | 2236416/4422102 [00:04<00:03, 594898.26it/s]\u001b[A\u001b[A\n",
      "\n",
      " 52%|█████▏    | 2301952/4422102 [00:04<00:03, 595271.49it/s]\u001b[A\u001b[A\n",
      "\n",
      " 54%|█████▎    | 2367488/4422102 [00:04<00:03, 598317.43it/s]\u001b[A\u001b[A\n",
      "\n",
      " 55%|█████▌    | 2433024/4422102 [00:04<00:03, 598366.34it/s]\u001b[A\u001b[A\n",
      "\n",
      " 57%|█████▋    | 2498560/4422102 [00:04<00:03, 601938.67it/s]\u001b[A\u001b[A\n",
      "\n",
      " 58%|█████▊    | 2564096/4422102 [00:04<00:03, 600665.40it/s]\u001b[A\u001b[A\n",
      "\n",
      " 59%|█████▉    | 2629632/4422102 [00:05<00:02, 600288.54it/s]\u001b[A\u001b[A\n",
      "\n",
      " 61%|██████    | 2695168/4422102 [00:05<00:02, 601118.18it/s]\u001b[A\u001b[A\n",
      "\n",
      " 62%|██████▏   | 2760704/4422102 [00:05<00:02, 603027.30it/s]\u001b[A\u001b[A\n",
      "\n",
      " 64%|██████▍   | 2826240/4422102 [00:05<00:02, 602163.33it/s]\u001b[A\u001b[A\n",
      "\n",
      " 65%|██████▌   | 2891776/4422102 [00:05<00:02, 601797.09it/s]\u001b[A\u001b[A\n",
      "\n",
      " 67%|██████▋   | 2957312/4422102 [00:05<00:02, 601000.42it/s]\u001b[A\u001b[A\n",
      "\n",
      " 68%|██████▊   | 3022848/4422102 [00:05<00:02, 605303.19it/s]\u001b[A\u001b[A\n",
      "\n",
      " 70%|██████▉   | 3088384/4422102 [00:05<00:02, 602679.05it/s]\u001b[A\u001b[A\n",
      "\n",
      " 71%|███████▏  | 3153920/4422102 [00:05<00:02, 601686.61it/s]\u001b[A\u001b[A\n",
      "\n",
      " 73%|███████▎  | 3219456/4422102 [00:05<00:02, 600909.50it/s]\u001b[A\u001b[A\n",
      "\n",
      " 74%|███████▍  | 3284992/4422102 [00:06<00:01, 604856.66it/s]\u001b[A\u001b[A\n",
      "\n",
      " 76%|███████▌  | 3350528/4422102 [00:06<00:01, 602668.25it/s]\u001b[A\u001b[A\n",
      "\n",
      " 77%|███████▋  | 3416064/4422102 [00:06<00:01, 602161.49it/s]\u001b[A\u001b[A\n",
      "\n",
      " 79%|███████▊  | 3481600/4422102 [00:06<00:01, 600462.79it/s]\u001b[A\u001b[A\n",
      "\n",
      " 80%|████████  | 3547136/4422102 [00:06<00:01, 600756.00it/s]\u001b[A\u001b[A\n",
      "\n",
      " 82%|████████▏ | 3612672/4422102 [00:06<00:01, 603716.97it/s]\u001b[A\u001b[A\n",
      "\n",
      " 83%|████████▎ | 3678208/4422102 [00:06<00:01, 602801.16it/s]\u001b[A\u001b[A\n",
      "\n",
      " 85%|████████▍ | 3743744/4422102 [00:06<00:01, 602193.01it/s]\u001b[A\u001b[A\n",
      "\n",
      " 86%|████████▌ | 3809280/4422102 [00:06<00:01, 600664.23it/s]\u001b[A\u001b[A\n",
      "\n",
      " 88%|████████▊ | 3874816/4422102 [00:07<00:00, 603358.34it/s]\u001b[A\u001b[A\n",
      "\n",
      " 89%|████████▉ | 3940352/4422102 [00:07<00:00, 602435.94it/s]\u001b[A\u001b[A\n",
      "\n",
      " 91%|█████████ | 4005888/4422102 [00:07<00:00, 601818.43it/s]\u001b[A\u001b[A\n",
      "\n",
      " 92%|█████████▏| 4071424/4422102 [00:07<00:00, 600051.00it/s]\u001b[A\u001b[A\n",
      "\n",
      " 94%|█████████▎| 4136960/4422102 [00:07<00:00, 603473.48it/s]\u001b[A\u001b[A\n",
      "\n",
      " 95%|█████████▌| 4202496/4422102 [00:07<00:00, 603925.71it/s]\u001b[A\u001b[A\n",
      "\n",
      " 97%|█████████▋| 4268032/4422102 [00:07<00:00, 601934.38it/s]\u001b[A\u001b[A\n",
      "\n",
      " 98%|█████████▊| 4333568/4422102 [00:07<00:00, 596847.15it/s]\u001b[A\u001b[A\n",
      "\n",
      " 99%|█████████▉| 4399104/4422102 [00:07<00:00, 605916.73it/s]\u001b[A\u001b[A\n",
      "\n",
      "4423680it [00:07, 553218.85it/s]                             \u001b[A\u001b[A\n",
      "\n",
      "0it [00:00, ?it/s]\u001b[A\u001b[A"
     ]
    },
    {
     "name": "stdout",
     "output_type": "stream",
     "text": [
      "Extracting /Users/kechengxu/.pytorch/F_MNIST_data/FashionMNIST/raw/t10k-images-idx3-ubyte.gz\n",
      "Downloading http://fashion-mnist.s3-website.eu-central-1.amazonaws.com/t10k-labels-idx1-ubyte.gz to /Users/kechengxu/.pytorch/F_MNIST_data/FashionMNIST/raw/t10k-labels-idx1-ubyte.gz\n"
     ]
    },
    {
     "name": "stderr",
     "output_type": "stream",
     "text": [
      "\n",
      "\n",
      "  0%|          | 0/5148 [00:00<?, ?it/s]\u001b[A\u001b[A\n",
      "\n",
      "8192it [00:00, 24342.26it/s]            \u001b[A\u001b[A"
     ]
    },
    {
     "name": "stdout",
     "output_type": "stream",
     "text": [
      "Extracting /Users/kechengxu/.pytorch/F_MNIST_data/FashionMNIST/raw/t10k-labels-idx1-ubyte.gz\n",
      "Processing...\n",
      "Done!\n"
     ]
    },
    {
     "name": "stderr",
     "output_type": "stream",
     "text": [
      "\r",
      "26427392it [01:00, 409139.92it/s]                              "
     ]
    }
   ],
   "source": [
    "import torch\n",
    "from torchvision import datasets, transforms\n",
    "import helper\n",
    "\n",
    "# Define a transform to normalize the data\n",
    "transform = transforms.Compose([transforms.ToTensor(),\n",
    "                                transforms.Normalize((0.5,), (0.5,))])\n",
    "# Download and load the training data\n",
    "trainset = datasets.FashionMNIST('~/.pytorch/F_MNIST_data/', download=True, train=True, transform=transform)\n",
    "trainloader = torch.utils.data.DataLoader(trainset, batch_size=64, shuffle=True)\n",
    "\n",
    "# Download and load the test data\n",
    "testset = datasets.FashionMNIST('~/.pytorch/F_MNIST_data/', download=True, train=False, transform=transform)\n",
    "testloader = torch.utils.data.DataLoader(testset, batch_size=64, shuffle=True)"
   ]
  },
  {
   "cell_type": "markdown",
   "metadata": {},
   "source": [
    "Here we can see one of the images."
   ]
  },
  {
   "cell_type": "code",
   "execution_count": 2,
   "metadata": {},
   "outputs": [
    {
     "data": {
      "image/png": "[encoded data removed]",
      "text/plain": [
       "<Figure size 432x288 with 1 Axes>"
      ]
     },
     "metadata": {},
     "output_type": "display_data"
    },
    {
     "name": "stderr",
     "output_type": "stream",
     "text": [
      "\n",
      "32768it [00:20, 103483.99it/s]                           \u001b[A"
     ]
    }
   ],
   "source": [
    "image, label = next(iter(trainloader))\n",
    "helper.imshow(image[0,:]);"
   ]
  },
  {
   "cell_type": "markdown",
   "metadata": {},
   "source": [
    "## Building the network\n",
    "\n",
    "Here you should define your network. As with MNIST, each image is 28x28 which is a total of 784 pixels, and there are 10 classes. You should include at least one hidden layer. We suggest you use ReLU activations for the layers and to return the logits or log-softmax from the forward pass. It's up to you how many layers you add and the size of those layers."
   ]
  },
  {
   "cell_type": "code",
   "execution_count": 4,
   "metadata": {},
   "outputs": [],
   "source": [
    "# TODO: Define your network architecture here\n",
    "from torch import nn\n",
    "import torch.nn.functional as F\n",
    "from torchvision import datasets, transforms\n",
    "model = nn.Sequential(nn.Linear(784, 128),\n",
    "                      nn.ReLU(),\n",
    "                      nn.Linear(128, 64),\n",
    "                      nn.ReLU(),\n",
    "                      nn.Linear(64, 10),\n",
    "                      nn.LogSoftmax(dim=1))"
   ]
  },
  {
   "cell_type": "markdown",
   "metadata": {},
   "source": [
    "# Train the network\n",
    "\n",
    "Now you should create your network and train it. First you'll want to define [the criterion](http://pytorch.org/docs/master/nn.html#loss-functions) ( something like `nn.CrossEntropyLoss`) and [the optimizer](http://pytorch.org/docs/master/optim.html) (typically `optim.SGD` or `optim.Adam`).\n",
    "\n",
    "Then write the training code. Remember the training pass is a fairly straightforward process:\n",
    "\n",
    "* Make a forward pass through the network to get the logits \n",
    "* Use the logits to calculate the loss\n",
    "* Perform a backward pass through the network with `loss.backward()` to calculate the gradients\n",
    "* Take a step with the optimizer to update the weights\n",
    "\n",
    "By adjusting the hyperparameters (hidden units, learning rate, etc), you should be able to get the training loss below 0.4."
   ]
  },
  {
   "cell_type": "code",
   "execution_count": 6,
   "metadata": {},
   "outputs": [],
   "source": [
    "# TODO: Create the network, define the criterion and optimizer\n",
    "from torch import optim\n",
    "criterion = nn.NLLLoss()\n",
    "optimizer = optim.Adam(model.parameters(), lr=0.01)"
   ]
  },
  {
   "cell_type": "code",
   "execution_count": 7,
   "metadata": {},
   "outputs": [
    {
     "name": "stdout",
     "output_type": "stream",
     "text": [
      "Training loss: 0.5448890631514063\n",
      "Training loss: 0.44994080935650543\n",
      "Training loss: 0.41920946981670504\n",
      "Training loss: 0.4021715594253052\n",
      "Training loss: 0.3960756744498383\n"
     ]
    }
   ],
   "source": [
    "# TODO: Train the network here\n",
    "epochs = 5\n",
    "for e in range(epochs):\n",
    "    running_loss = 0\n",
    "    for images, labels in trainloader:\n",
    "        # Flatten MNIST images into a 784 long vector\n",
    "        images = images.view(images.shape[0], -1)\n",
    "    \n",
    "        # TODO: Training pass\n",
    "        optimizer.zero_grad()\n",
    "        output = model(images)\n",
    "        loss = criterion(output, labels)\n",
    "        loss.backward()\n",
    "        optimizer.step()\n",
    "        \n",
    "        running_loss += loss.item()\n",
    "    else:\n",
    "        print(f\"Training loss: {running_loss/len(trainloader)}\")"
   ]
  },
  {
   "cell_type": "code",
   "execution_count": 9,
   "metadata": {},
   "outputs": [
    {
     "data": {
      "image/png": "[encoded data removed]",
      "text/plain": [
       "<Figure size 432x648 with 2 Axes>"
      ]
     },
     "metadata": {
      "image/png": {
       "height": 204,
       "width": 423
      }
     },
     "output_type": "display_data"
    }
   ],
   "source": [
    "%matplotlib inline\n",
    "%config InlineBackend.figure_format = 'retina'\n",
    "\n",
    "import helper\n",
    "\n",
    "# Test out your network!\n",
    "\n",
    "dataiter = iter(testloader)\n",
    "images, labels = dataiter.next()\n",
    "img = images[0]\n",
    "# Convert 2D image to 1D vector\n",
    "img = img.resize_(1, 784)\n",
    "\n",
    "# TODO: Calculate the class probabilities (softmax) for img\n",
    "ps = torch.exp(model(img))\n",
    "\n",
    "# Plot the image and probabilities\n",
    "helper.view_classify(img.resize_(1, 28, 28), ps, version='Fashion')"
   ]
  },
  {
   "cell_type": "code",
   "execution_count": null,
   "metadata": {},
   "outputs": [],
   "source": []
  }
 ],
 "metadata": {
  "kernelspec": {
   "display_name": "Python 3",
   "language": "python",
   "name": "python3"
  },
  "language_info": {
   "codemirror_mode": {
    "name": "ipython",
    "version": 3
   },
   "file_extension": ".py",
   "mimetype": "text/x-python",
   "name": "python",
   "nbconvert_exporter": "python",
   "pygments_lexer": "ipython3",
   "version": "3.6.5"
  }
 },
 "nbformat": 4,
 "nbformat_minor": 2
}
